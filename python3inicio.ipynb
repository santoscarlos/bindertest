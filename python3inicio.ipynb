{
 "cells": [
  {
   "cell_type": "markdown",
   "metadata": {
    "colab_type": "text",
    "id": "tQEWbZAe8mjF"
   },
   "source": [
    "## Introdução super rápida ao Python\n",
    "\n",
    "Python é uma linguagem interpretada, orientada a objetos, com tipos dinâmicos e com sintaxe procedimental. Em Python os blocos de código são definidos por meio de indentação (se você odeia Python, provavelmente odeia por esse motivo).\n",
    "\n",
    "Em python, não é necessário declarar variáveis previamente. O tipo das variáveis não é fixo."
   ]
  },
  {
   "cell_type": "code",
   "execution_count": 16,
   "metadata": {
    "colab": {
     "autoexec": {
      "startup": false,
      "wait_interval": 0
     },
     "base_uri": "https://localhost:8080/",
     "height": 243,
     "output_extras": [
      {
       "item_id": 1
      },
      {
       "item_id": 2
      }
     ]
    },
    "colab_type": "code",
    "executionInfo": {
     "elapsed": 509,
     "status": "error",
     "timestamp": 1520372898414,
     "user": {
      "displayName": "Carlos Santos",
      "photoUrl": "//lh5.googleusercontent.com/-5vh41iN5TKs/AAAAAAAAAAI/AAAAAAAAAAA/iTuhnIB6FNs/s50-c-k-no/photo.jpg",
      "userId": "109943321444231370275"
     },
     "user_tz": 180
    },
    "id": "bhECG4l9_KWY",
    "outputId": "33422ace-43d5-4d08-a7e7-5ed7144a6bc5"
   },
   "outputs": [
    {
     "name": "stdout",
     "output_type": "stream",
     "text": [
      "UFABC\n",
      "8\n"
     ]
    },
    {
     "ename": "NameError",
     "evalue": "ignored",
     "output_type": "error",
     "traceback": [
      "\u001b[0;31m\u001b[0m",
      "\u001b[0;31mNameError\u001b[0mTraceback (most recent call last)",
      "\u001b[0;32m<ipython-input-16-4b101f1f94d2>\u001b[0m in \u001b[0;36m<module>\u001b[0;34m()\u001b[0m\n\u001b[1;32m      4\u001b[0m \u001b[0;32mprint\u001b[0m\u001b[0;34m(\u001b[0m\u001b[0ma\u001b[0m\u001b[0;34m)\u001b[0m\u001b[0;34m\u001b[0m\u001b[0m\n\u001b[1;32m      5\u001b[0m \u001b[0;31m# variável não iniciada, vai gerar um erro\u001b[0m\u001b[0;34m\u001b[0m\u001b[0;34m\u001b[0m\u001b[0m\n\u001b[0;32m----> 6\u001b[0;31m \u001b[0;32mprint\u001b[0m\u001b[0;34m(\u001b[0m\u001b[0mb\u001b[0m\u001b[0;34m)\u001b[0m\u001b[0;34m\u001b[0m\u001b[0m\n\u001b[0m",
      "\u001b[0;31mNameError\u001b[0m: name 'b' is not defined"
     ]
    }
   ],
   "source": [
    "a = 'UFABC'\n",
    "print a\n",
    "a = 8\n",
    "print(a)\n",
    "# variável não iniciada, vai gerar um erro\n",
    "print(b)"
   ]
  },
  {
   "cell_type": "markdown",
   "metadata": {
    "colab_type": "text",
    "id": "qQrEnalG_WMv"
   },
   "source": [
    "Strings são delimitadas por ' ou \".\n",
    "As strings são imutáveis e possuem vários métodos úteis. A função `len` calcula o tamanho de um string, e também funciona com vários tipos de objetos Python."
   ]
  },
  {
   "cell_type": "code",
   "execution_count": 0,
   "metadata": {
    "colab": {
     "autoexec": {
      "startup": false,
      "wait_interval": 0
     },
     "base_uri": "https://localhost:8080/",
     "height": 102,
     "output_extras": [
      {}
     ]
    },
    "colab_type": "code",
    "executionInfo": {
     "elapsed": 586,
     "status": "ok",
     "timestamp": 1520368129876,
     "user": {
      "displayName": "Carlos Santos",
      "photoUrl": "//lh5.googleusercontent.com/-5vh41iN5TKs/AAAAAAAAAAI/AAAAAAAAAAA/iTuhnIB6FNs/s50-c-k-no/photo.jpg",
      "userId": "109943321444231370275"
     },
     "user_tz": 180
    },
    "id": "cwHUefCr_nr4",
    "outputId": "78a676f2-9efd-40ac-d5a3-79bb0843ab5e"
   },
   "outputs": [
    {
     "name": "stdout",
     "output_type": "stream",
     "text": [
      "HelloWorld\n",
      "False\n",
      "True\n",
      "world\n",
      "WORLD\n"
     ]
    }
   ],
   "source": [
    "s1 = \"Hello\"\n",
    "s2 = \"World\"\n",
    "s3 = s1 + s2\n",
    "print(s3\n",
    "print(s1.startswith('X'))\n",
    "print(s1.startswith('H'))\n",
    "print(s2.lower())\n",
    "print(s2.upper())\n",
    "print(len(s1))\n",
    "print(len(s3))"
   ]
  },
  {
   "cell_type": "markdown",
   "metadata": {
    "colab_type": "text",
    "id": "75No4NrWAgib"
   },
   "source": [
    "Podemos criar listas com o operador `[]`"
   ]
  },
  {
   "cell_type": "code",
   "execution_count": 0,
   "metadata": {
    "colab": {
     "autoexec": {
      "startup": false,
      "wait_interval": 0
     },
     "base_uri": "https://localhost:8080/",
     "height": 85,
     "output_extras": [
      {}
     ]
    },
    "colab_type": "code",
    "executionInfo": {
     "elapsed": 566,
     "status": "ok",
     "timestamp": 1520368307109,
     "user": {
      "displayName": "Carlos Santos",
      "photoUrl": "//lh5.googleusercontent.com/-5vh41iN5TKs/AAAAAAAAAAI/AAAAAAAAAAA/iTuhnIB6FNs/s50-c-k-no/photo.jpg",
      "userId": "109943321444231370275"
     },
     "user_tz": 180
    },
    "id": "qLA5gSVfAn1z",
    "outputId": "aaa3e04d-63fe-4e09-b5d6-36406cee6307"
   },
   "outputs": [
    {
     "name": "stdout",
     "output_type": "stream",
     "text": [
      "['a', 'b', 'd']\n",
      "3\n",
      "a\n",
      "d\n"
     ]
    }
   ],
   "source": [
    "lista = ['a', 'b', 'd']\n",
    "print(lista)\n",
    "print(len(lista))\n",
    "print(lista[0])\n",
    "print(lista[2])"
   ]
  },
  {
   "cell_type": "markdown",
   "metadata": {
    "colab_type": "text",
    "id": "BFEf3XX-A3OE"
   },
   "source": [
    "Podemos \"fatiar\" uma lista usando índices:"
   ]
  },
  {
   "cell_type": "code",
   "execution_count": 0,
   "metadata": {
    "colab": {
     "autoexec": {
      "startup": false,
      "wait_interval": 0
     },
     "base_uri": "https://localhost:8080/",
     "height": 68,
     "output_extras": [
      {}
     ]
    },
    "colab_type": "code",
    "executionInfo": {
     "elapsed": 585,
     "status": "ok",
     "timestamp": 1520368466824,
     "user": {
      "displayName": "Carlos Santos",
      "photoUrl": "//lh5.googleusercontent.com/-5vh41iN5TKs/AAAAAAAAAAI/AAAAAAAAAAA/iTuhnIB6FNs/s50-c-k-no/photo.jpg",
      "userId": "109943321444231370275"
     },
     "user_tz": 180
    },
    "id": "PYwIDQ7uBC4V",
    "outputId": "47bcd24e-fb7b-420b-fcdc-ac91fe8463f8"
   },
   "outputs": [
    {
     "name": "stdout",
     "output_type": "stream",
     "text": [
      "['a', 'b', 'c']\n",
      "['c', 'd', 'e']\n",
      "['e']\n"
     ]
    }
   ],
   "source": [
    "lista = ['a', 'b', 'c', 'd', 'e', 'f', 'g']\n",
    "print(lista[0:3])\n",
    "print(lista[2:5])\n",
    "print(lista[4:5])"
   ]
  },
  {
   "cell_type": "markdown",
   "metadata": {
    "colab_type": "text",
    "id": "1QEN218zBehN"
   },
   "source": [
    "Podemos iterar sobre uma lista usando `for`:"
   ]
  },
  {
   "cell_type": "code",
   "execution_count": 0,
   "metadata": {
    "colab": {
     "autoexec": {
      "startup": false,
      "wait_interval": 0
     },
     "base_uri": "https://localhost:8080/",
     "height": 272,
     "output_extras": [
      {}
     ]
    },
    "colab_type": "code",
    "executionInfo": {
     "elapsed": 580,
     "status": "ok",
     "timestamp": 1520368934764,
     "user": {
      "displayName": "Carlos Santos",
      "photoUrl": "//lh5.googleusercontent.com/-5vh41iN5TKs/AAAAAAAAAAI/AAAAAAAAAAA/iTuhnIB6FNs/s50-c-k-no/photo.jpg",
      "userId": "109943321444231370275"
     },
     "user_tz": 180
    },
    "id": "vzQwImHgBn4k",
    "outputId": "63b6dc9d-5a38-4daa-c055-269649bc76ff"
   },
   "outputs": [
    {
     "name": "stdout",
     "output_type": "stream",
     "text": [
      "iterando...\n",
      "1 a\n",
      "iterando...\n",
      "2 b\n",
      "iterando...\n",
      "3 c\n",
      "iterando...\n",
      "4 d\n",
      "iterando...\n",
      "5 e\n",
      "iterando...\n",
      "6 f\n",
      "iterando...\n",
      "7 g\n",
      "Recuo de indentação indica que saímos do laço\n"
     ]
    }
   ],
   "source": [
    "a = 1\n",
    "for item in lista:\n",
    "  print('iterando...')\n",
    "  print(a, item)\n",
    "  a = a + 1  \n",
    "print 'Recuo de indentação indica que saímos do laço'  "
   ]
  },
  {
   "cell_type": "code",
   "execution_count": 0,
   "metadata": {
    "colab": {
     "autoexec": {
      "startup": false,
      "wait_interval": 0
     }
    },
    "colab_type": "code",
    "id": "WQporC0PB2sv"
   },
   "outputs": [],
   "source": [
    "Podemos criar desvios em programas com `if`, `else`:"
   ]
  },
  {
   "cell_type": "markdown",
   "metadata": {
    "colab_type": "text",
    "id": "MKCT-J6gCw_p"
   },
   "source": [
    "No bloco acima, a indentação determina o escopo do for. É possível indentar com qualquer quantidade de espaços, mas o uso deve ser consistente ao longo do programa.\n",
    "Podemos criar desvios em programas com `if`, `else`:"
   ]
  },
  {
   "cell_type": "code",
   "execution_count": 0,
   "metadata": {
    "colab": {
     "autoexec": {
      "startup": false,
      "wait_interval": 0
     },
     "base_uri": "https://localhost:8080/",
     "height": 51,
     "output_extras": [
      {}
     ]
    },
    "colab_type": "code",
    "executionInfo": {
     "elapsed": 588,
     "status": "ok",
     "timestamp": 1520368774852,
     "user": {
      "displayName": "Carlos Santos",
      "photoUrl": "//lh5.googleusercontent.com/-5vh41iN5TKs/AAAAAAAAAAI/AAAAAAAAAAA/iTuhnIB6FNs/s50-c-k-no/photo.jpg",
      "userId": "109943321444231370275"
     },
     "user_tz": 180
    },
    "id": "IkLBXteyCJsh",
    "outputId": "ec99c45d-76f8-42dc-e16a-a0e87c868de5"
   },
   "outputs": [
    {
     "name": "stdout",
     "output_type": "stream",
     "text": [
      "status é verdadeiro\n",
      "condição falsa\n"
     ]
    }
   ],
   "source": [
    "status = True\n",
    "if status:\n",
    "  print('status é verdadeiro')\n",
    "  status = False\n",
    "\n",
    "a = 5  \n",
    "if a < 4:\n",
    "  print('condição verdadeira')\n",
    "else:\n",
    "  print('condição falsa')"
   ]
  },
  {
   "cell_type": "markdown",
   "metadata": {
    "colab_type": "text",
    "id": "yM78-r7qDTne"
   },
   "source": [
    "Um tipo útil em python é o dicionário (dictionary, hashtable)."
   ]
  },
  {
   "cell_type": "code",
   "execution_count": 0,
   "metadata": {
    "colab": {
     "autoexec": {
      "startup": false,
      "wait_interval": 0
     },
     "base_uri": "https://localhost:8080/",
     "height": 316,
     "output_extras": [
      {},
      {}
     ]
    },
    "colab_type": "code",
    "executionInfo": {
     "elapsed": 579,
     "status": "error",
     "timestamp": 1520369295404,
     "user": {
      "displayName": "Carlos Santos",
      "photoUrl": "//lh5.googleusercontent.com/-5vh41iN5TKs/AAAAAAAAAAI/AAAAAAAAAAA/iTuhnIB6FNs/s50-c-k-no/photo.jpg",
      "userId": "109943321444231370275"
     },
     "user_tz": 180
    },
    "id": "D3r-QnmkDotM",
    "outputId": "f174f32c-136d-455d-f764-ab8b7c1eb1b9"
   },
   "outputs": [
    {
     "name": "stdout",
     "output_type": "stream",
     "text": [
      "janeiro 1\n",
      "abril é o mês  4\n",
      "marco é o mês  3\n",
      "fevereiro é o mês  2\n",
      "maio é o mês  5\n",
      "janeiro é o mês  1\n"
     ]
    },
    {
     "ename": "KeyError",
     "evalue": "ignored",
     "output_type": "error",
     "traceback": [
      "\u001b[0;31m\u001b[0m",
      "\u001b[0;31mKeyError\u001b[0mTraceback (most recent call last)",
      "\u001b[0;32m<ipython-input-15-443cee77c374>\u001b[0m in \u001b[0;36m<module>\u001b[0;34m()\u001b[0m\n\u001b[1;32m      8\u001b[0m \u001b[0;34m\u001b[0m\u001b[0m\n\u001b[1;32m      9\u001b[0m \u001b[0;31m# não definido, vai dar erro\u001b[0m\u001b[0;34m\u001b[0m\u001b[0;34m\u001b[0m\u001b[0m\n\u001b[0;32m---> 10\u001b[0;31m \u001b[0;32mprint\u001b[0m \u001b[0mmeses\u001b[0m\u001b[0;34m[\u001b[0m\u001b[0;34m'dezembro'\u001b[0m\u001b[0;34m]\u001b[0m\u001b[0;34m\u001b[0m\u001b[0m\n\u001b[0m\u001b[1;32m     11\u001b[0m \u001b[0;34m\u001b[0m\u001b[0m\n",
      "\u001b[0;31mKeyError\u001b[0m: 'dezembro'"
     ]
    }
   ],
   "source": [
    "meses = {'janeiro':1, 'fevereiro':2, 'marco':3}\n",
    "print 'janeiro', meses['janeiro']\n",
    "meses['abril'] = 4\n",
    "meses['maio'] = 5\n",
    "\n",
    "for chave in meses:\n",
    "  print(chave, 'é o mês ', meses[chave])\n",
    "\n",
    "# não definido, vai dar erro  \n",
    "print(meses['dezembro'])\n",
    "  "
   ]
  }
 ],
 "metadata": {
  "colab": {
   "collapsed_sections": [],
   "default_view": {},
   "name": "python3inicio.ipynb",
   "provenance": [],
   "version": "0.3.2",
   "views": {}
  },
  "kernelspec": {
   "display_name": "Python 3",
   "language": "python",
   "name": "python3"
  },
  "language_info": {
   "codemirror_mode": {
    "name": "ipython",
    "version": 3
   },
   "file_extension": ".py",
   "mimetype": "text/x-python",
   "name": "python",
   "nbconvert_exporter": "python",
   "pygments_lexer": "ipython3",
   "version": "3.6.10"
  }
 },
 "nbformat": 4,
 "nbformat_minor": 1
}
